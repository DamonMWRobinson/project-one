{
 "cells": [
  {
   "cell_type": "code",
   "execution_count": 16,
   "id": "b34a6e42",
   "metadata": {},
   "outputs": [],
   "source": [
    "import pandas as pd\n",
    "import requests\n",
    "from pprint import pprint"
   ]
  },
  {
   "cell_type": "code",
   "execution_count": 17,
   "id": "247226b1",
   "metadata": {},
   "outputs": [],
   "source": [
    "complete_data_df = pd.read_csv(\"Global_Landslide_Catalog_Export.csv\")\n",
    "selction_df = complete_data_df"
   ]
  },
  {
   "cell_type": "code",
   "execution_count": 31,
   "id": "0d7caaab",
   "metadata": {
    "scrolled": true
   },
   "outputs": [
    {
     "data": {
      "text/plain": [
       "Index(['source_name', 'source_link', 'event_id', 'event_date', 'event_time',\n",
       "       'event_title', 'event_description', 'location_description',\n",
       "       'location_accuracy', 'landslide_category', 'landslide_trigger',\n",
       "       'landslide_size', 'landslide_setting', 'fatality_count', 'injury_count',\n",
       "       'storm_name', 'photo_link', 'notes', 'event_import_source',\n",
       "       'event_import_id', 'country_name', 'country_code',\n",
       "       'admin_division_name', 'admin_division_population',\n",
       "       'gazeteer_closest_point', 'gazeteer_distance', 'submitted_date',\n",
       "       'created_date', 'last_edited_date', 'longitude', 'latitude'],\n",
       "      dtype='object')"
      ]
     },
     "execution_count": 31,
     "metadata": {},
     "output_type": "execute_result"
    }
   ],
   "source": [
    "selected_data_df = selction_df[['event_date','admin_division_population','landslide_category','landslide_setting',\\\n",
    "                                'longitude','latitude','landslide_size','injury_count','fatality_count','landslide_trigger','country_name',\\\n",
    "                                'event_date','storm_name']]\n",
    "complete_data_df.columns"
   ]
  },
  {
   "cell_type": "code",
   "execution_count": 32,
   "id": "aca3c6e9",
   "metadata": {
    "scrolled": true
   },
   "outputs": [
    {
     "data": {
      "text/plain": [
       "unknown             6291\n",
       "above_road          3104\n",
       "natural_slope        531\n",
       "urban                264\n",
       "below_road           199\n",
       "mine                 157\n",
       "above_river          149\n",
       "deforested_slope      53\n",
       "other                 50\n",
       "retaining_wall        48\n",
       "bluff                 48\n",
       "burned_area           28\n",
       "engineered_slope      22\n",
       "above_coast           20\n",
       "Name: landslide_setting, dtype: int64"
      ]
     },
     "execution_count": 32,
     "metadata": {},
     "output_type": "execute_result"
    }
   ],
   "source": [
    "selected_data_df[\"landslide_setting\"].value_counts()\n"
   ]
  },
  {
   "cell_type": "code",
   "execution_count": 35,
   "id": "47556957",
   "metadata": {
    "scrolled": true
   },
   "outputs": [
    {
     "data": {
      "text/plain": [
       "country_name\n",
       "Afghanistan       12\n",
       "Albania            1\n",
       "Algeria            1\n",
       "American Samoa     4\n",
       "Angola             3\n",
       "                  ..\n",
       "Vanuatu            2\n",
       "Venezuela         21\n",
       "Vietnam           86\n",
       "Yemen              5\n",
       "Zambia             1\n",
       "Name: fatality_count, Length: 141, dtype: int64"
      ]
     },
     "execution_count": 35,
     "metadata": {},
     "output_type": "execute_result"
    }
   ],
   "source": [
    "selected_data_df.groupby(\"country_name\")[\"fatality_count\"].count()\n"
   ]
  },
  {
   "cell_type": "code",
   "execution_count": null,
   "id": "df83da4a",
   "metadata": {},
   "outputs": [],
   "source": []
  }
 ],
 "metadata": {
  "kernelspec": {
   "display_name": "Python 3 (ipykernel)",
   "language": "python",
   "name": "python3"
  },
  "language_info": {
   "codemirror_mode": {
    "name": "ipython",
    "version": 3
   },
   "file_extension": ".py",
   "mimetype": "text/x-python",
   "name": "python",
   "nbconvert_exporter": "python",
   "pygments_lexer": "ipython3",
   "version": "3.9.13"
  }
 },
 "nbformat": 4,
 "nbformat_minor": 5
}
